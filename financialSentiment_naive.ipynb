{
 "cells": [
  {
   "cell_type": "code",
   "execution_count": 1,
   "id": "bde50a3a-6dbd-4500-8cd8-606f9603b72e",
   "metadata": {},
   "outputs": [
    {
     "data": {
      "text/plain": [
       "DatasetDict({\n",
       "    train: Dataset({\n",
       "        features: ['text', 'label'],\n",
       "        num_rows: 9543\n",
       "    })\n",
       "    validation: Dataset({\n",
       "        features: ['text', 'label'],\n",
       "        num_rows: 2388\n",
       "    })\n",
       "})"
      ]
     },
     "execution_count": 1,
     "metadata": {},
     "output_type": "execute_result"
    }
   ],
   "source": [
    "#Load file from database\n",
    "\n",
    "from datasets import load_dataset\n",
    "dataset_fin = load_dataset(\"zeroshot/twitter-financial-news-sentiment\")\n",
    "dataset_fin"
   ]
  },
  {
   "cell_type": "code",
   "execution_count": 2,
   "id": "925e032d",
   "metadata": {},
   "outputs": [
    {
     "data": {
      "text/plain": [
       "{'text': '$BYND - JPMorgan reels in expectations on Beyond Meat https://t.co/bd0xbFGjkT',\n",
       " 'label': 0}"
      ]
     },
     "execution_count": 2,
     "metadata": {},
     "output_type": "execute_result"
    }
   ],
   "source": [
    "#Print the first element of the training set\n",
    "dataset_fin[\"train\"][0]"
   ]
  },
  {
   "cell_type": "code",
   "execution_count": 3,
   "id": "c3ca2d6b",
   "metadata": {},
   "outputs": [
    {
     "data": {
      "text/html": [
       "<div>\n",
       "<style scoped>\n",
       "    .dataframe tbody tr th:only-of-type {\n",
       "        vertical-align: middle;\n",
       "    }\n",
       "\n",
       "    .dataframe tbody tr th {\n",
       "        vertical-align: top;\n",
       "    }\n",
       "\n",
       "    .dataframe thead th {\n",
       "        text-align: right;\n",
       "    }\n",
       "</style>\n",
       "<table border=\"1\" class=\"dataframe\">\n",
       "  <thead>\n",
       "    <tr style=\"text-align: right;\">\n",
       "      <th></th>\n",
       "      <th>text</th>\n",
       "      <th>label</th>\n",
       "    </tr>\n",
       "  </thead>\n",
       "  <tbody>\n",
       "    <tr>\n",
       "      <th>0</th>\n",
       "      <td>$BYND - JPMorgan reels in expectations on Beyo...</td>\n",
       "      <td>0</td>\n",
       "    </tr>\n",
       "    <tr>\n",
       "      <th>1</th>\n",
       "      <td>$CCL $RCL - Nomura points to bookings weakness...</td>\n",
       "      <td>0</td>\n",
       "    </tr>\n",
       "    <tr>\n",
       "      <th>2</th>\n",
       "      <td>$CX - Cemex cut at Credit Suisse, J.P. Morgan ...</td>\n",
       "      <td>0</td>\n",
       "    </tr>\n",
       "    <tr>\n",
       "      <th>3</th>\n",
       "      <td>$ESS: BTIG Research cuts to Neutral https://t....</td>\n",
       "      <td>0</td>\n",
       "    </tr>\n",
       "    <tr>\n",
       "      <th>4</th>\n",
       "      <td>$FNKO - Funko slides after Piper Jaffray PT cu...</td>\n",
       "      <td>0</td>\n",
       "    </tr>\n",
       "  </tbody>\n",
       "</table>\n",
       "</div>"
      ],
      "text/plain": [
       "                                                text  label\n",
       "0  $BYND - JPMorgan reels in expectations on Beyo...      0\n",
       "1  $CCL $RCL - Nomura points to bookings weakness...      0\n",
       "2  $CX - Cemex cut at Credit Suisse, J.P. Morgan ...      0\n",
       "3  $ESS: BTIG Research cuts to Neutral https://t....      0\n",
       "4  $FNKO - Funko slides after Piper Jaffray PT cu...      0"
      ]
     },
     "execution_count": 3,
     "metadata": {},
     "output_type": "execute_result"
    }
   ],
   "source": [
    "# Convert the dataset to a pandas dataframe\n",
    "fin_df = dataset_fin[\"train\"].to_pandas()\n",
    "fin_df.head()"
   ]
  },
  {
   "cell_type": "code",
   "execution_count": 4,
   "id": "eea3b912",
   "metadata": {},
   "outputs": [
    {
     "data": {
      "text/plain": [
       "{'text': Value(dtype='string', id=None),\n",
       " 'label': Value(dtype='int64', id=None)}"
      ]
     },
     "execution_count": 4,
     "metadata": {},
     "output_type": "execute_result"
    }
   ],
   "source": [
    "# inspect the features of the dataset\n",
    "features = dataset_fin[\"train\"].features\n",
    "features"
   ]
  },
  {
   "cell_type": "code",
   "execution_count": 5,
   "id": "6bf7eea5",
   "metadata": {},
   "outputs": [
    {
     "data": {
      "text/plain": [
       "label\n",
       "0    0.151106\n",
       "1    0.201509\n",
       "2    0.647386\n",
       "Name: proportion, dtype: float64"
      ]
     },
     "execution_count": 5,
     "metadata": {},
     "output_type": "execute_result"
    }
   ],
   "source": [
    "# Check the distribution of the labels\n",
    "fin_df['label'].value_counts(normalize=True).sort_index()"
   ]
  },
  {
   "cell_type": "markdown",
   "id": "e80534fe",
   "metadata": {},
   "source": [
    "Samples above have slightly lower counts for label \"0\", this may produce less accurate results for this group."
   ]
  },
  {
   "cell_type": "code",
   "execution_count": 6,
   "id": "26936835-fcbb-4541-8779-1b5e682c2e72",
   "metadata": {},
   "outputs": [
    {
     "name": "stdout",
     "output_type": "stream",
     "text": [
      "$BYND - JPMorgan reels in expectations on Beyond Meat https://t.co/bd0xbFGjkT\n",
      "['bynd', 'jpmorgan', 'reel', 'in', 'expect', 'on', 'beyond', 'meat', 'http', 't', 'co', 'bd0xbfgjkt']\n"
     ]
    },
    {
     "data": {
      "application/vnd.jupyter.widget-view+json": {
       "model_id": "ba3dfe154b01468295c21aa752a6e453",
       "version_major": 2,
       "version_minor": 0
      },
      "text/plain": [
       "Saving the dataset (0/1 shards):   0%|          | 0/9543 [00:00<?, ? examples/s]"
      ]
     },
     "metadata": {},
     "output_type": "display_data"
    },
    {
     "name": "stdout",
     "output_type": "stream",
     "text": [
      "$ALLY - Ally Financial pulls outlook https://t.co/G9Zdi1boy5\n",
      "['alli', 'alli', 'financi', 'pull', 'outlook', 'http', 't', 'co', 'g9zdi1boy5']\n"
     ]
    },
    {
     "data": {
      "application/vnd.jupyter.widget-view+json": {
       "model_id": "04b93e6a22d94764b9b21d2c13d18730",
       "version_major": 2,
       "version_minor": 0
      },
      "text/plain": [
       "Saving the dataset (0/1 shards):   0%|          | 0/2388 [00:00<?, ? examples/s]"
      ]
     },
     "metadata": {},
     "output_type": "display_data"
    },
    {
     "name": "stdout",
     "output_type": "stream",
     "text": [
      "['$BYND - JPMorgan reels in expectations on Beyond Meat https://t.co/bd0xbFGjkT', '$CCL $RCL - Nomura points to bookings weakness at Carnival and Royal Caribbean https://t.co/yGjpT2ReD3', '$CX - Cemex cut at Credit Suisse, J.P. Morgan on weak building outlook https://t.co/KN1g4AWFIb', '$ESS: BTIG Research cuts to Neutral https://t.co/MCyfTsXc2N', '$FNKO - Funko slides after Piper Jaffray PT cut https://t.co/z37IJmCQzB', '$FTI - TechnipFMC downgraded at Berenberg but called Top Pick at Deutsche Bank https://t.co/XKcPDilIuU', '$GM - GM loses a bull https://t.co/tdUfG5HbXy', '$GM: Deutsche Bank cuts to Hold https://t.co/7Fv1ZiFZBS', '$GTT: Cowen cuts to Market Perform', '$HNHAF $HNHPD $AAPL - Trendforce cuts iPhone estimate after Foxconn delay https://t.co/rlnEwzlzzS']\n"
     ]
    }
   ],
   "source": [
    "import re\n",
    "import datasets\n",
    "import nltk\n",
    "\n",
    "\n",
    "# remove puctuations by eliminating characters that are not space and a character, using regex\n",
    "def remove_punctuations(text): \n",
    "    punct_tag = re.compile(r'[^\\w\\s]')\n",
    "    text = punct_tag.sub(r' ', text) \n",
    "    return text\n",
    "\n",
    "\n",
    "# remove html using regex\n",
    "def remove_html(text):\n",
    "    html_tag = re.compile(r'<.*?>')\n",
    "    text = html_tag.sub(r' ', text)\n",
    "    return text\n",
    "\n",
    "# remove url using regex \n",
    "def remove_url(text):\n",
    "    if text is None:\n",
    "        return None\n",
    "    url_clean = re.compile(r\"https://\\S+|www\\.\\S+\")\n",
    "    return url_clean.sub(r' ', text)\n",
    "\n",
    "# remove emoji using re and unicode\n",
    "def remove_emoji(text):\n",
    "    if text is None:\n",
    "        return None\n",
    "    emoji_clean = re.compile(\"[\"\n",
    "                             u\"\\U0001F600-\\U0001F64F\"  # emoticons\n",
    "                             u\"\\U0001F300-\\U0001F5FF\"  # symbols & pictographs\n",
    "                             u\"\\U0001F680-\\U0001F6FF\"  # transport & map symbols\n",
    "                             u\"\\U0001F1E0-\\U0001F1FF\"  # flags (iOS)\n",
    "                             u\"\\U00002702-\\U000027B0\"\n",
    "                             u\"\\U000024C2-\\U0001F251\"\n",
    "                             \"]+\", flags=re.UNICODE)\n",
    "    return emoji_clean.sub(r' ', str(text))\n",
    "    url_clean = re.compile(r\"https://\\S+|www\\.\\S+\")\n",
    "    text = url_clean.sub(r'', text)\n",
    "    return text\n",
    "\n",
    "# tokenize the text using nltk\n",
    "def stem(words):\n",
    "    stemmer = nltk.stem.porter.PorterStemmer()\n",
    "    return [stemmer.stem(word) for word in words]\n",
    "\n",
    "# Preprocess the twitter dataset\n",
    "def preprocess_twitter(ds):\n",
    "    pipeline = (remove_punctuations, remove_html, remove_url, remove_emoji, nltk.tokenize.word_tokenize, stem)\n",
    "    print(ds[0][\"text\"])\n",
    "\n",
    "    for preprocess_funct in pipeline:\n",
    "        ds = ds.map(lambda entry: {\"text\": preprocess_funct(entry[\"text\"])})\n",
    "\n",
    "    print(ds[0][\"text\"])\n",
    "    return ds\n",
    "\n",
    "# Load the dataset and preprocess it\n",
    "def load_and_preprocess_twitter():\n",
    "    dataset_name = \"zeroshot/twitter-financial-news-sentiment\"  \n",
    "    ds = datasets.load_dataset(dataset_name)  \n",
    "    for split in [\"train\", \"validation\"]:\n",
    "        preprocess_twitter(ds[split]).save_to_disk(f\"twitter_preprocessed_{split}\")\n",
    "    print([ds[\"train\"][i][\"text\"] for i in range(10)])\n",
    "\n",
    "    \n",
    "load_and_preprocess_twitter()\n",
    "\n"
   ]
  },
  {
   "cell_type": "code",
   "execution_count": 7,
   "id": "c7cd6947",
   "metadata": {},
   "outputs": [],
   "source": [
    "from sklearn.feature_extraction.text import CountVectorizer\n",
    "from sklearn.naive_bayes import MultinomialNB\n",
    "from sklearn.metrics import confusion_matrix, ConfusionMatrixDisplay\n",
    "from matplotlib import pyplot as plt\n",
    "import datasets\n",
    "import numpy as np\n"
   ]
  },
  {
   "cell_type": "code",
   "execution_count": 9,
   "id": "d71fe242",
   "metadata": {},
   "outputs": [
    {
     "data": {
      "image/png": "[encoded data removed]",
      "text/plain": [
       "<Figure size 640x480 with 2 Axes>"
      ]
     },
     "metadata": {},
     "output_type": "display_data"
    }
   ],
   "source": [
    "ds = datasets.load_from_disk(\"twitter_preprocessed_train\")\n",
    "count_vectorizer = CountVectorizer(preprocessor=lambda x: x, tokenizer=lambda x: x, max_df=1.0, min_df=0.0)\n",
    "document_word_counts = count_vectorizer.fit_transform(ds[\"text\"])\n",
    "NB_classifier = MultinomialNB().fit(document_word_counts, ds[\"label\"])\n",
    "\n",
    "\n",
    "ds_test = datasets.load_from_disk(\"twitter_preprocessed_validation\")\n",
    "predictions = NB_classifier.predict(count_vectorizer.transform(ds_test[\"text\"]))\n",
    "conf_matrix = confusion_matrix(ds_test[\"label\"], predictions)\n",
    "disp = ConfusionMatrixDisplay(confusion_matrix=conf_matrix, display_labels=NB_classifier.classes_)\n",
    "disp.plot()\n",
    "plt.show()\n",
    "\n",
    "# plt.imshow(conf_matrix, cmap='binary', interpolation='None')\n",
    "# plt.title(\"Confusion Matrix\")\n",
    "# plt.xlabel(\"Predicted\")\n",
    "# plt.ylabel(\"True\")\n",
    "# plt.xticks(range(conf_matrix.shape[0]))\n",
    "# plt.yticks(range(conf_matrix.shape[0]))\n",
    "\n",
    "# for (j,i), label in np.ndenumerate(conf_matrix):\n",
    "#     plt.text(i,j, label, ha='center', va='center')\n",
    "# plt.show()\n"
   ]
  },
  {
   "cell_type": "markdown",
   "id": "ebd8f6c6",
   "metadata": {},
   "source": []
  },
  {
   "cell_type": "code",
   "execution_count": null,
   "id": "19e2d8c8",
   "metadata": {},
   "outputs": [],
   "source": []
  }
 ],
 "metadata": {
  "kernelspec": {
   "display_name": "Python 3",
   "language": "python",
   "name": "python3"
  },
  "language_info": {
   "codemirror_mode": {
    "name": "ipython",
    "version": 3
   },
   "file_extension": ".py",
   "mimetype": "text/x-python",
   "name": "python",
   "nbconvert_exporter": "python",
   "pygments_lexer": "ipython3",
   "version": "3.12.2"
  }
 },
 "nbformat": 4,
 "nbformat_minor": 5
}
